{
 "cells": [
  {
   "cell_type": "code",
   "execution_count": 11,
   "metadata": {},
   "outputs": [],
   "source": [
    "import numpy as np \n",
    "import matplotlib.pyplot as plt\n",
    "\n",
    "# add the gridding path \n",
    "import sys\n",
    "sys.path.append(\"/home/ian/Research/Disks/MillionPoints/million-points-of-light\")\n",
    "sys.path.append(\"/Users/ianczekala/Documents/ALMA/million-points-of-light\")\n",
    "\n",
    "import gridding\n",
    "\n",
    "# convert from arcseconds to radians\n",
    "arcsec = np.pi / (180.0 * 3600) # [radians]  = 1/206265 radian/arcsec"
   ]
  },
  {
   "cell_type": "code",
   "execution_count": 12,
   "metadata": {},
   "outputs": [],
   "source": [
    "def sky_plane(alpha, dec, a=1, delta_alpha=1.0*arcsec, delta_delta=1.0*arcsec, sigma_alpha=1.0*arcsec,\n",
    "              sigma_delta=1.0*arcsec, Omega=0.0):\n",
    "    '''\n",
    "    alpha: ra (in radians)\n",
    "    delta: dec (in radians)\n",
    "    a : amplitude\n",
    "    delta_alpha : offset (in radians)\n",
    "    delta_dec : offset (in radians)\n",
    "    sigma_alpha : width (in radians)\n",
    "    sigma_dec : width (in radians)\n",
    "    Omega : position angle of ascending node (in degrees east of north)\n",
    "    '''\n",
    "\n",
    "    return a * np.exp(-( (alpha - delta_alpha)**2/(2 * sigma_alpha**2) + \\\n",
    "                        (dec - delta_delta)**2/(2 * sigma_delta**2)))\n",
    "\n",
    "\n",
    "def fourier_plane(u, v, a=1, delta_alpha=1.0*arcsec, delta_delta=1.0*arcsec, sigma_alpha=1.0*arcsec,\n",
    "              sigma_delta=1.0*arcsec, Omega=0.0):\n",
    "    '''\n",
    "    Calculate the Fourier transform of the Gaussian. Assumes u, v in kλ.\n",
    "    '''\n",
    "\n",
    "    # convert back to lambda\n",
    "    u = u * 1e3\n",
    "    v = v * 1e3\n",
    "\n",
    "    return 2 * np.pi * a * sigma_alpha * sigma_delta * np.exp(- 2 * np.pi**2 * \\\n",
    "                (sigma_alpha**2 * u**2 + sigma_delta**2 * v**2) - 2 * np.pi * 1.0j * \\\n",
    "                                                    (delta_alpha * u + delta_delta * v))\n",
    "\n",
    "def fftspace(width, N):\n",
    "    '''Oftentimes it is necessary to get a symmetric coordinate array that spans ``N``\n",
    "     elements from `-width` to `+width`, but makes sure that the middle point lands\n",
    "     on ``0``. The indices go from ``0`` to ``N -1.``\n",
    "     `linspace` returns  the end points inclusive, wheras we want to leave out the\n",
    "     right endpoint, because we are sampling the function in a cyclic manner.'''\n",
    "\n",
    "    assert N % 2 == 0, \"N must be even.\"\n",
    "\n",
    "    dx = width * 2.0 / N\n",
    "    xx = np.empty(N, np.float)\n",
    "    for i in range(N):\n",
    "        xx[i] = -width + i * dx\n",
    "    \n",
    "    return xx"
   ]
  },
  {
   "cell_type": "code",
   "execution_count": 13,
   "metadata": {},
   "outputs": [
    {
     "name": "stdout",
     "output_type": "stream",
     "text": [
      "440.03158666047227\n"
     ]
    }
   ],
   "source": [
    "# Let's plot this up and see what it looks like \n",
    "\n",
    "N_alpha = 128\n",
    "N_dec = 128\n",
    "img_radius = 15.0 * arcsec\n",
    "\n",
    "\n",
    "# full span of the image\n",
    "ra = fftspace(img_radius, N_alpha) # [arcsec]\n",
    "dec = fftspace(img_radius, N_dec) # [arcsec]\n",
    "\n",
    "# calculate the maximum u and v points that our image grid can sample \n",
    "dRA = (2 * img_radius) / N_alpha # radians\n",
    "max_baseline = 1 / (2 * dRA) * 1e-3 # kilolambda, nyquist rate\n",
    "print(max_baseline) # kilolambda"
   ]
  },
  {
   "cell_type": "code",
   "execution_count": 18,
   "metadata": {},
   "outputs": [],
   "source": [
    "# create some fake data\n",
    "\n",
    "np.random.seed(42)\n",
    "\n",
    "N_vis = 100 # number of data points \n",
    "\n",
    "# the fake baselines where the Visibility function is sampled \n",
    "u_data = np.random.normal(loc=0, scale=0.1 * max_baseline, size=N_vis)\n",
    "v_data = np.random.normal(loc=0, scale=0.1 * max_baseline, size=N_vis)\n",
    "\n",
    "data_points = np.array([u_data, v_data]).T\n",
    "\n",
    "# create a dataset of a Gaussian\n",
    "data_only = fourier_plane(u_data, v_data)\n",
    "\n",
    "# add some noise\n",
    "noise = 1e-12 * np.ones(N_vis) # Jy\n",
    "noise_draw = np.random.normal(loc=0, scale=noise, size=(N_vis)) + \\\n",
    "    np.random.normal(loc=0, scale=noise, size=(N_vis)) * 1.0j \n",
    "data_values = data_only + noise_draw"
   ]
  },
  {
   "cell_type": "code",
   "execution_count": 19,
   "metadata": {},
   "outputs": [],
   "source": [
    "# create fixed quantities that we can pre-calculate in numpy before stuffing into the Theano part \n",
    "\n",
    "# the image plane grid (fixed throughout the problem)\n",
    "XX, YY = np.meshgrid(np.fft.fftshift(ra), np.fft.fftshift(dec))\n",
    "\n",
    "# the image-plane taper (fixed throughout problem)\n",
    "corrfun_mat = gridding.corrfun_mat(np.fft.fftshift(ra), np.fft.fftshift(dec))\n",
    "\n",
    "# the u and v coordinates of the RFFT output (also fixed throughout problem)\n",
    "u_coords = np.fft.rfftfreq(N_alpha, d=(2 * img_radius)/N_alpha) * 1e-3  # convert to [kλ]\n",
    "v_coords = np.fft.fftfreq(N_dec, d=(2 * img_radius)/N_dec) * 1e-3  # convert to [kλ]\n",
    "\n",
    "# calculate the C_real and C_imag matrices\n",
    "# these are scipy csc sparse matrices that will be stuffed into Theano objects\n",
    "C_real, C_imag = gridding.calc_matrices(data_points, u_coords, v_coords)"
   ]
  },
  {
   "cell_type": "code",
   "execution_count": 21,
   "metadata": {},
   "outputs": [],
   "source": [
    "np.save(\"data_points.npy\", data_points)\n",
    "np.save(\"noise.npy\", noise)\n",
    "np.save(\"data_real.npy\", np.real(data_values))\n",
    "np.save(\"data_imag.npy\", np.imag(data_values))\n",
    "\n",
    "np.save(\"corrfun.npy\", corrfun_mat)\n",
    "\n",
    "np.save(\"C_real.npy\", C_real.toarray())\n",
    "np.save(\"C_imag.npy\", C_imag.toarray())"
   ]
  },
  {
   "cell_type": "code",
   "execution_count": null,
   "metadata": {},
   "outputs": [],
   "source": []
  }
 ],
 "metadata": {
  "kernelspec": {
   "display_name": "Python 3",
   "language": "python",
   "name": "python3"
  },
  "language_info": {
   "codemirror_mode": {
    "name": "ipython",
    "version": 3
   },
   "file_extension": ".py",
   "mimetype": "text/x-python",
   "name": "python",
   "nbconvert_exporter": "python",
   "pygments_lexer": "ipython3",
   "version": "3.7.1"
  }
 },
 "nbformat": 4,
 "nbformat_minor": 2
}
