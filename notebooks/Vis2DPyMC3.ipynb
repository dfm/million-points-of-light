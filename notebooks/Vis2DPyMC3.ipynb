{
 "cells": [
  {
   "cell_type": "code",
   "execution_count": 1,
   "metadata": {},
   "outputs": [],
   "source": [
    "%matplotlib inline\n",
    "\n",
    "import numpy as np \n",
    "import matplotlib.pyplot as plt\n",
    "\n",
    "# convert from arcseconds to radians\n",
    "arcsec = np.pi / (180.0 * 3600) # [radians]  = 1/206265 radian/arcsec"
   ]
  },
  {
   "cell_type": "markdown",
   "metadata": {},
   "source": [
    "# PyMC3 in the Fourier Plane\n",
    "\n",
    "Let's take a gander at implementing a PyMC3 model to sample a visibility model. \n",
    "\n",
    "$$\n",
    "    I(\\alpha, \\delta |\\, \\boldsymbol{\\beta}) = a \\exp \\left [ - \\left \\{  \\frac{(\\alpha^\\prime - \\delta_\\alpha)^2}{2 \\sigma_\\alpha^2} + \\frac{(\\delta^\\prime - \\delta_\\delta)^2}{2 \\sigma_\\delta^2} \\right \\} \\right ]\n",
    "$$\n",
    "\n",
    "then the model visibility function (via Fourier transform pairs) is\n",
    "\n",
    "$$\n",
    "    V(u, v |\\, \\boldsymbol{\\beta}) = 2 \\pi a \\sigma_\\alpha \\sigma_\\delta \\exp \\left [ -2 \\pi^2 (\\sigma_\\alpha^2 u^{\\prime 2} + \\sigma_\\delta^2 v^{\\prime 2}) - 2 \\pi i (\\delta_\\alpha u^\\prime + \\delta_\\alpha v^\\prime)\\right ].\n",
    "$$\n",
    "\n",
    "Let's implement this sky plane model "
   ]
  },
  {
   "cell_type": "code",
   "execution_count": 2,
   "metadata": {},
   "outputs": [],
   "source": [
    "def sky_plane(alpha, dec, a=1, delta_alpha=0.0, delta_dec=0.0, sigma_alpha=1.0*arcsec, \n",
    "              sigma_delta=1.0*arcsec, Omega=0.0):\n",
    "    '''\n",
    "    a : amplitude\n",
    "    delta_alpha : offset (in radians)\n",
    "    delta_dec : offset (in radians)\n",
    "    sigma_alpha : width (in radians)\n",
    "    sigma_dec : width (in radians)\n",
    "    Omega : position angle of ascending node (in degrees east of north)\n",
    "    '''\n",
    "    \n",
    "    return a * np.exp(-( (alpha - delta_alpha)**2/(2 * sigma_alpha**2) + \\\n",
    "                        (dec - delta_dec)**2/(2 * sigma_delta**2)))"
   ]
  },
  {
   "cell_type": "code",
   "execution_count": 3,
   "metadata": {},
   "outputs": [],
   "source": [
    "def fftspace(width, N):\n",
    "    '''Oftentimes it is necessary to get a symmetric coordinate array that spans ``N``\n",
    "     elements from `-width` to `+width`, but makes sure that the middle point lands\n",
    "     on ``0``. The indices go from ``0`` to ``N -1.``\n",
    "     `linspace` returns  the end points inclusive, wheras we want to leave out the\n",
    "     right endpoint, because we are sampling the function in a cyclic manner.'''\n",
    "\n",
    "    assert N % 2 == 0, \"N must be even.\"\n",
    "\n",
    "    dx = width * 2.0 / N\n",
    "    xx = np.empty(N, np.float)\n",
    "    for i in range(N):\n",
    "        xx[i] = -width + i * dx\n",
    "    \n",
    "    return xx"
   ]
  },
  {
   "cell_type": "code",
   "execution_count": 5,
   "metadata": {},
   "outputs": [
    {
     "data": {
      "image/png": "[encoded data removed]",
      "text/plain": [
       "<Figure size 432x288 with 1 Axes>"
      ]
     },
     "metadata": {
      "needs_background": "light"
     },
     "output_type": "display_data"
    }
   ],
   "source": [
    "# Let's plot this up and see what it looks like \n",
    "\n",
    "N_alpha = 32 \n",
    "N_dec = 32 \n",
    "img_radius = 10.0 * arcsec\n",
    "\n",
    "\n",
    "# full span of the image\n",
    "ra = fftspace(img_radius, N_alpha) # [arcsec]\n",
    "dec = fftspace(img_radius, N_dec) # [arcsec]\n",
    "\n",
    "# fill out an image \n",
    "img = np.empty((N_dec, N_alpha), np.float)\n",
    "\n",
    "for i,dec in enumerate(dec):\n",
    "    for j,alpha in enumerate(ra):\n",
    "        img[i,j] = sky_plane(alpha, dec)\n",
    "\n",
    "plt.imshow(img, origin=\"upper\", interpolation=\"none\", aspect=\"equal\")\n",
    "plt.xlabel(r\"$\\Delta \\alpha \\cos \\delta$\");\n",
    "plt.ylabel(r\"$\\Delta \\delta$\");"
   ]
  },
  {
   "cell_type": "markdown",
   "metadata": {},
   "source": [
    "Now, let's FFT this to get a visibility domain version. First, we'll need to `fftshift` everything so we don't get phase-offsets. "
   ]
  },
  {
   "cell_type": "code",
   "execution_count": 6,
   "metadata": {},
   "outputs": [
    {
     "data": {
      "image/png": "[encoded data removed]",
      "text/plain": [
       "<Figure size 432x288 with 1 Axes>"
      ]
     },
     "metadata": {
      "needs_background": "light"
     },
     "output_type": "display_data"
    }
   ],
   "source": [
    "plt.imshow(np.fft.fftshift(img), origin=\"upper\", interpolation=\"none\", aspect=\"equal\");"
   ]
  },
  {
   "cell_type": "code",
   "execution_count": 7,
   "metadata": {},
   "outputs": [],
   "source": [
    "vis = np.fft.fft2(np.fft.fftshift(img))"
   ]
  },
  {
   "cell_type": "code",
   "execution_count": null,
   "metadata": {},
   "outputs": [],
   "source": [
    "# plot the real, imaginary, amplitude, and phase of these \n"
   ]
  },
  {
   "cell_type": "code",
   "execution_count": 10,
   "metadata": {},
   "outputs": [
    {
     "data": {
      "text/plain": [
       "(1, 32)"
      ]
     },
     "execution_count": 10,
     "metadata": {},
     "output_type": "execute_result"
    }
   ],
   "source": [
    "np.meshgrid(ra, dec)\n"
   ]
  },
  {
   "cell_type": "code",
   "execution_count": null,
   "metadata": {},
   "outputs": [],
   "source": [
    "# Implement the full sky-to-visibility model in Theano\n",
    "\n",
    "# I think we want the grid of alphas for evaluation to be a shared variable\n",
    "\n",
    "# a : amplitude\n",
    "# delta_alpha : offset (in radians)\n",
    "# delta_delta : offset (in radians)\n",
    "# sigma_alpha : width (in radians)\n",
    "# sigma_delta : width (in radians)\n",
    "\n",
    "# update a shared variable\n",
    "# data.set_value(data_vals)\n",
    "\n",
    "# create input grid as a shared variable\n",
    "# NOTE that these must be `fftshifted` already.\n",
    "alpha = theano.shared(np.fft.fftshift(ras[np.newaxis,:]))\n",
    "# calculate dalpha, the space between the grids  \n",
    "dalpha = abs(alpha[0,1] - alpha[0,0])\n",
    "\n",
    "a = tt.scalar(\"a\")\n",
    "delta_alpha = tt.scalar(\"delta_alpha\")\n",
    "sigma_alpha = tt.scalar(\"sigma_alpha\")\n",
    "\n",
    "I = a * tt.exp(-(alpha - delta_alpha)**2/(2 * sigma_alpha**2))\n",
    "# since the input coordinates were already shifted, then this is too\n",
    "\n",
    "rfft = dalpha * fft.rfft(I, norm=None)\n",
    "# rshape = tt.shape(rfft)\n",
    "# fshape = theano.function([alpha, a, delta_alpha, sigma_alpha], rshape)\n",
    "\n",
    "f_vis = theano.function([a, delta_alpha, sigma_alpha], rfft)"
   ]
  }
 ],
 "metadata": {
  "kernelspec": {
   "display_name": "Python 3",
   "language": "python",
   "name": "python3"
  },
  "language_info": {
   "codemirror_mode": {
    "name": "ipython",
    "version": 3
   },
   "file_extension": ".py",
   "mimetype": "text/x-python",
   "name": "python",
   "nbconvert_exporter": "python",
   "pygments_lexer": "ipython3",
   "version": "3.7.1"
  }
 },
 "nbformat": 4,
 "nbformat_minor": 2
}
